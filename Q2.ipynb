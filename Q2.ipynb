{
 "cells": [
  {
   "metadata": {},
   "cell_type": "markdown",
   "source": "Stemming using Regular Expression",
   "id": "4c8ad867e83859aa"
  },
  {
   "cell_type": "code",
   "id": "initial_id",
   "metadata": {
    "collapsed": true,
    "ExecuteTime": {
     "end_time": "2025-02-10T06:57:18.772178Z",
     "start_time": "2025-02-10T06:57:18.746178Z"
    }
   },
   "source": [
    "import re\n",
    "\n",
    "def regex_stem(word):\n",
    "    pattern = r'(ing|ly|ed|ious|ies|ive|es|s|ment)?$'\n",
    "    return re.sub(pattern, '', word)\n",
    "\n",
    "words = ['running', 'runner', 'ran', 'runs', 'easily', 'fairly', 'fairness', 'generous', 'generation', 'generously']\n",
    "stemmed_words = [regex_stem(word) for word in words]\n",
    "print(stemmed_words)"
   ],
   "outputs": [
    {
     "name": "stdout",
     "output_type": "stream",
     "text": [
      "['runn', 'runner', 'ran', 'run', 'easi', 'fair', 'fairnes', 'generou', 'generation', 'generous']\n"
     ]
    }
   ],
   "execution_count": 2
  },
  {
   "metadata": {},
   "cell_type": "markdown",
   "source": "Stemming using Porter Stemmer",
   "id": "444411abfa6df5a0"
  },
  {
   "metadata": {
    "ExecuteTime": {
     "end_time": "2025-02-10T06:57:22.899464Z",
     "start_time": "2025-02-10T06:57:22.882452Z"
    }
   },
   "cell_type": "code",
   "source": [
    "from nltk.stem import PorterStemmer\n",
    "\n",
    "porter = PorterStemmer()\n",
    "\n",
    "words = ['running', 'runner', 'ran', 'runs', 'easily', 'fairly', 'fairness', 'generous', 'generation', 'generously']\n",
    "stemmed_words = [porter.stem(word) for word in words]\n",
    "print(stemmed_words)"
   ],
   "id": "964c9486b31776d8",
   "outputs": [
    {
     "name": "stdout",
     "output_type": "stream",
     "text": [
      "['run', 'runner', 'ran', 'run', 'easili', 'fairli', 'fair', 'gener', 'gener', 'gener']\n"
     ]
    }
   ],
   "execution_count": 4
  },
  {
   "metadata": {},
   "cell_type": "markdown",
   "source": "Stemming using Lancaster Stemmer",
   "id": "3a4a9a180bf10716"
  },
  {
   "metadata": {
    "ExecuteTime": {
     "end_time": "2025-02-10T06:57:24.700661Z",
     "start_time": "2025-02-10T06:57:24.679078Z"
    }
   },
   "cell_type": "code",
   "source": [
    "from nltk.stem import LancasterStemmer\n",
    "\n",
    "lancaster = LancasterStemmer()\n",
    "\n",
    "words = ['running', 'runner', 'ran', 'runs', 'easily', 'fairly', 'fairness', 'generous', 'generation', 'generously']\n",
    "stemmed_words = [lancaster.stem(word) for word in words]\n",
    "print(stemmed_words)"
   ],
   "id": "ff74d48161ed9bb5",
   "outputs": [
    {
     "name": "stdout",
     "output_type": "stream",
     "text": [
      "['run', 'run', 'ran', 'run', 'easy', 'fair', 'fair', 'gen', 'gen', 'gen']\n"
     ]
    }
   ],
   "execution_count": 5
  },
  {
   "metadata": {},
   "cell_type": "markdown",
   "source": "Stemming using Snowball Stemmer",
   "id": "ca767ef6e6b1d8b3"
  },
  {
   "metadata": {
    "ExecuteTime": {
     "end_time": "2025-02-10T06:57:26.255077Z",
     "start_time": "2025-02-10T06:57:26.239285Z"
    }
   },
   "cell_type": "code",
   "source": [
    "from nltk.stem import SnowballStemmer\n",
    "\n",
    "snowball = SnowballStemmer('english')\n",
    "\n",
    "words = ['running', 'runner', 'ran', 'runs', 'easily', 'fairly', 'fairness', 'generous', 'generation', 'generously']\n",
    "stemmed_words = [snowball.stem(word) for word in words]\n",
    "print(stemmed_words)"
   ],
   "id": "4c4039553417b717",
   "outputs": [
    {
     "name": "stdout",
     "output_type": "stream",
     "text": [
      "['run', 'runner', 'ran', 'run', 'easili', 'fair', 'fair', 'generous', 'generat', 'generous']\n"
     ]
    }
   ],
   "execution_count": 6
  }
 ],
 "metadata": {
  "kernelspec": {
   "display_name": "Python 3",
   "language": "python",
   "name": "python3"
  },
  "language_info": {
   "codemirror_mode": {
    "name": "ipython",
    "version": 2
   },
   "file_extension": ".py",
   "mimetype": "text/x-python",
   "name": "python",
   "nbconvert_exporter": "python",
   "pygments_lexer": "ipython2",
   "version": "2.7.6"
  }
 },
 "nbformat": 4,
 "nbformat_minor": 5
}
