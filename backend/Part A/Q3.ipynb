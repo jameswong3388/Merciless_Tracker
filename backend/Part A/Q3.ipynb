{
 "cells": [
  {
   "metadata": {
    "ExecuteTime": {
     "end_time": "2025-02-19T15:45:58.881424Z",
     "start_time": "2025-02-19T15:45:56.717200Z"
    }
   },
   "cell_type": "code",
   "source": [
    "# Import necessary libraries for POS tagging\n",
    "import nltk\n",
    "from nltk.tokenize import word_tokenize\n",
    "from nltk.tag import pos_tag\n",
    "from textblob import TextBlob\n",
    "import re\n",
    "import pandas as pd\n",
    "from IPython.display import display\n",
    "\n",
    "# Download necessary NLTK resources\n",
    "nltk.download('averaged_perceptron_tagger')"
   ],
   "id": "21a4f0481a142dc0",
   "outputs": [
    {
     "name": "stderr",
     "output_type": "stream",
     "text": [
      "[nltk_data] Downloading package averaged_perceptron_tagger to\n",
      "[nltk_data]     C:\\Users\\User\\AppData\\Roaming\\nltk_data...\n",
      "[nltk_data]   Package averaged_perceptron_tagger is already up-to-\n",
      "[nltk_data]       date!\n"
     ]
    },
    {
     "data": {
      "text/plain": [
       "True"
      ]
     },
     "execution_count": 1,
     "metadata": {},
     "output_type": "execute_result"
    }
   ],
   "execution_count": 1
  },
  {
   "metadata": {
    "ExecuteTime": {
     "end_time": "2025-02-19T15:45:59.543226Z",
     "start_time": "2025-02-19T15:45:59.532342Z"
    }
   },
   "cell_type": "code",
   "source": [
    "# Define function to load text data from a file\n",
    "def load_text(file_path):\n",
    "    try:\n",
    "        with open(file_path, \"r\", encoding=\"utf-8\") as file:\n",
    "            return file.read()\n",
    "    except Exception as e:\n",
    "        print(f\"Error reading file {file_path}: {e}\")\n",
    "        return None\n",
    "\n",
    "# File path for Data_2.txt\n",
    "file_path_2 = \"Data_2.txt\"\n",
    "\n",
    "# Load Data_2.txt content\n",
    "data_2_text = load_text(file_path_2)\n",
    "\n",
    "print(\"\\nData_2.txt:\")\n",
    "print(data_2_text)\n",
    "\n",
    "# Tokenize sentence\n",
    "tokens = word_tokenize(data_2_text)\n",
    "\n",
    "print(\"\\nTokenized Sentence:\")\n",
    "print(tokens)"
   ],
   "id": "7e9c98caf985294f",
   "outputs": [
    {
     "name": "stdout",
     "output_type": "stream",
     "text": [
      "\n",
      "Data_2.txt:\n",
      "The big black dog barked at the white cat and chased away.\n",
      "\n",
      "Tokenized Sentence:\n",
      "['The', 'big', 'black', 'dog', 'barked', 'at', 'the', 'white', 'cat', 'and', 'chased', 'away', '.']\n"
     ]
    }
   ],
   "execution_count": 3
  },
  {
   "metadata": {
    "collapsed": true,
    "ExecuteTime": {
     "end_time": "2025-02-19T15:46:02.024465Z",
     "start_time": "2025-02-19T15:46:01.850385Z"
    }
   },
   "cell_type": "code",
   "source": [
    "# 1. POS Tagging using NLTK\n",
    "pos_nltk = pos_tag(tokens)\n",
    "\n",
    "print(\"\\nPOS Tagging Results using NLTK:\")\n",
    "print(pos_nltk)\n",
    "\n",
    "# 2. POS Tagging using TextBlob\n",
    "blob = TextBlob(data_2_text)\n",
    "pos_textblob = blob.tags\n",
    "\n",
    "print(\"\\nPOS Tagging Results using TextBlob:\")\n",
    "print(pos_textblob)\n",
    "\n",
    "# 3. POS Tagging using Regular Expression Tagger\n",
    "# Define a simple regex-based POS tagging pattern\n",
    "patterns = [\n",
    "    (r'.*ing$', 'VBG'),  # Gerunds\n",
    "    (r'.*ed$', 'VBD'),   # Past tense verbs\n",
    "    (r'.*es$', 'VBZ'),   # Third-person singular present\n",
    "    (r'.*ly$', 'RB'),    # Adverbs\n",
    "    (r'.*ous$', 'JJ'),   # Adjectives\n",
    "    (r'^[A-Z].*$', 'NNP'),  # Proper nouns\n",
    "    (r'.*', 'NN')        # Default to noun\n",
    "]\n",
    "\n",
    "regex_tagger = nltk.RegexpTagger(patterns)\n",
    "pos_regex = regex_tagger.tag(tokens)\n",
    "\n",
    "print(\"\\nPOS Tagging Results using Regular Expression Tagger:\")\n",
    "print(pos_regex)\n",
    "\n",
    "# Store POS tagging results for comparison\n",
    "pos_results = {\n",
    "    \"NLTK POS Tagger\": pos_nltk,\n",
    "    \"TextBlob POS Tagger\": pos_textblob,\n",
    "    \"Regex POS Tagger\": pos_regex\n",
    "}\n",
    "\n",
    "# Convert to DataFrame for visualization\n",
    "df_pos = pd.DataFrame.from_dict(pos_results, orient=\"index\").transpose()\n",
    "df_pos.columns = [\"NLTK POS\", \"TextBlob POS\", \"Regex POS\"]\n",
    "\n",
    "# Display DataFrame in Jupyter Notebook\n",
    "print(\"\\nPOS Tagging Comparison (First 20 Tokens):\")\n",
    "display(df_pos)\n"
   ],
   "id": "initial_id",
   "outputs": [
    {
     "name": "stdout",
     "output_type": "stream",
     "text": [
      "\n",
      "POS Tagging Results using NLTK:\n",
      "[('The', 'DT'), ('big', 'JJ'), ('black', 'JJ'), ('dog', 'NN'), ('barked', 'VBD'), ('at', 'IN'), ('the', 'DT'), ('white', 'JJ'), ('cat', 'NN'), ('and', 'CC'), ('chased', 'VBD'), ('away', 'RB'), ('.', '.')]\n",
      "\n",
      "POS Tagging Results using TextBlob:\n",
      "[('The', 'DT'), ('big', 'JJ'), ('black', 'JJ'), ('dog', 'NN'), ('barked', 'VBD'), ('at', 'IN'), ('the', 'DT'), ('white', 'JJ'), ('cat', 'NN'), ('and', 'CC'), ('chased', 'VBD'), ('away', 'RB')]\n",
      "\n",
      "POS Tagging Results using Regular Expression Tagger:\n",
      "[('The', 'NNP'), ('big', 'NN'), ('black', 'NN'), ('dog', 'NN'), ('barked', 'VBD'), ('at', 'NN'), ('the', 'NN'), ('white', 'NN'), ('cat', 'NN'), ('and', 'NN'), ('chased', 'VBD'), ('away', 'NN'), ('.', 'NN')]\n",
      "\n",
      "POS Tagging Comparison (First 20 Tokens):\n"
     ]
    },
    {
     "data": {
      "text/plain": [
       "         NLTK POS   TextBlob POS      Regex POS\n",
       "0       (The, DT)      (The, DT)     (The, NNP)\n",
       "1       (big, JJ)      (big, JJ)      (big, NN)\n",
       "2     (black, JJ)    (black, JJ)    (black, NN)\n",
       "3       (dog, NN)      (dog, NN)      (dog, NN)\n",
       "4   (barked, VBD)  (barked, VBD)  (barked, VBD)\n",
       "5        (at, IN)       (at, IN)       (at, NN)\n",
       "6       (the, DT)      (the, DT)      (the, NN)\n",
       "7     (white, JJ)    (white, JJ)    (white, NN)\n",
       "8       (cat, NN)      (cat, NN)      (cat, NN)\n",
       "9       (and, CC)      (and, CC)      (and, NN)\n",
       "10  (chased, VBD)  (chased, VBD)  (chased, VBD)\n",
       "11     (away, RB)     (away, RB)     (away, NN)\n",
       "12         (., .)           None        (., NN)"
      ],
      "text/html": [
       "<div>\n",
       "<style scoped>\n",
       "    .dataframe tbody tr th:only-of-type {\n",
       "        vertical-align: middle;\n",
       "    }\n",
       "\n",
       "    .dataframe tbody tr th {\n",
       "        vertical-align: top;\n",
       "    }\n",
       "\n",
       "    .dataframe thead th {\n",
       "        text-align: right;\n",
       "    }\n",
       "</style>\n",
       "<table border=\"1\" class=\"dataframe\">\n",
       "  <thead>\n",
       "    <tr style=\"text-align: right;\">\n",
       "      <th></th>\n",
       "      <th>NLTK POS</th>\n",
       "      <th>TextBlob POS</th>\n",
       "      <th>Regex POS</th>\n",
       "    </tr>\n",
       "  </thead>\n",
       "  <tbody>\n",
       "    <tr>\n",
       "      <th>0</th>\n",
       "      <td>(The, DT)</td>\n",
       "      <td>(The, DT)</td>\n",
       "      <td>(The, NNP)</td>\n",
       "    </tr>\n",
       "    <tr>\n",
       "      <th>1</th>\n",
       "      <td>(big, JJ)</td>\n",
       "      <td>(big, JJ)</td>\n",
       "      <td>(big, NN)</td>\n",
       "    </tr>\n",
       "    <tr>\n",
       "      <th>2</th>\n",
       "      <td>(black, JJ)</td>\n",
       "      <td>(black, JJ)</td>\n",
       "      <td>(black, NN)</td>\n",
       "    </tr>\n",
       "    <tr>\n",
       "      <th>3</th>\n",
       "      <td>(dog, NN)</td>\n",
       "      <td>(dog, NN)</td>\n",
       "      <td>(dog, NN)</td>\n",
       "    </tr>\n",
       "    <tr>\n",
       "      <th>4</th>\n",
       "      <td>(barked, VBD)</td>\n",
       "      <td>(barked, VBD)</td>\n",
       "      <td>(barked, VBD)</td>\n",
       "    </tr>\n",
       "    <tr>\n",
       "      <th>5</th>\n",
       "      <td>(at, IN)</td>\n",
       "      <td>(at, IN)</td>\n",
       "      <td>(at, NN)</td>\n",
       "    </tr>\n",
       "    <tr>\n",
       "      <th>6</th>\n",
       "      <td>(the, DT)</td>\n",
       "      <td>(the, DT)</td>\n",
       "      <td>(the, NN)</td>\n",
       "    </tr>\n",
       "    <tr>\n",
       "      <th>7</th>\n",
       "      <td>(white, JJ)</td>\n",
       "      <td>(white, JJ)</td>\n",
       "      <td>(white, NN)</td>\n",
       "    </tr>\n",
       "    <tr>\n",
       "      <th>8</th>\n",
       "      <td>(cat, NN)</td>\n",
       "      <td>(cat, NN)</td>\n",
       "      <td>(cat, NN)</td>\n",
       "    </tr>\n",
       "    <tr>\n",
       "      <th>9</th>\n",
       "      <td>(and, CC)</td>\n",
       "      <td>(and, CC)</td>\n",
       "      <td>(and, NN)</td>\n",
       "    </tr>\n",
       "    <tr>\n",
       "      <th>10</th>\n",
       "      <td>(chased, VBD)</td>\n",
       "      <td>(chased, VBD)</td>\n",
       "      <td>(chased, VBD)</td>\n",
       "    </tr>\n",
       "    <tr>\n",
       "      <th>11</th>\n",
       "      <td>(away, RB)</td>\n",
       "      <td>(away, RB)</td>\n",
       "      <td>(away, NN)</td>\n",
       "    </tr>\n",
       "    <tr>\n",
       "      <th>12</th>\n",
       "      <td>(., .)</td>\n",
       "      <td>None</td>\n",
       "      <td>(., NN)</td>\n",
       "    </tr>\n",
       "  </tbody>\n",
       "</table>\n",
       "</div>"
      ]
     },
     "metadata": {},
     "output_type": "display_data"
    }
   ],
   "execution_count": 4
  },
  {
   "metadata": {
    "ExecuteTime": {
     "end_time": "2025-02-20T02:12:58.966828Z",
     "start_time": "2025-02-20T02:10:40.073051Z"
    }
   },
   "cell_type": "code",
   "source": [
    "from nltk import RegexpParser\n",
    "\n",
    "chunker = RegexpParser(\"\"\"\n",
    "    NP: {<DT>?<JJ>*<NN>}  # Noun Phrase: Optional determiner, adjectives, and noun\n",
    "    P: {<IN>}              # Preposition\n",
    "    V: {<V.*>}             # Verb: Any verb form\n",
    "    PP: {<P><NP>}          # Prepositional Phrase: Preposition + Noun Phrase\n",
    "    VP: {<V><NP|PP>*}      # Verb Phrase: Verb + Noun Phrase or Prepositional Phrase\n",
    "\"\"\")\n",
    "\n",
    "\n",
    "output = chunker.parse(pos_nltk)\n",
    "print(\"After Extracting\\n\", output)\n",
    "output.draw()"
   ],
   "id": "bc0f2d14aa4f0d4f",
   "outputs": [
    {
     "name": "stdout",
     "output_type": "stream",
     "text": [
      "After Extracting\n",
      " (S\n",
      "  (NP The/DT big/JJ black/JJ dog/NN)\n",
      "  (VP (V barked/VBD) (PP (P at/IN) (NP the/DT white/JJ cat/NN)))\n",
      "  and/CC\n",
      "  (VP (V chased/VBD))\n",
      "  away/RB\n",
      "  ./.)\n"
     ]
    }
   ],
   "execution_count": 7
  }
 ],
 "metadata": {
  "kernelspec": {
   "display_name": "Python 3",
   "language": "python",
   "name": "python3"
  },
  "language_info": {
   "codemirror_mode": {
    "name": "ipython",
    "version": 2
   },
   "file_extension": ".py",
   "mimetype": "text/x-python",
   "name": "python",
   "nbconvert_exporter": "python",
   "pygments_lexer": "ipython2",
   "version": "2.7.6"
  }
 },
 "nbformat": 4,
 "nbformat_minor": 5
}
